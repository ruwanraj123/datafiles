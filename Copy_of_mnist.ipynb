{
  "nbformat": 4,
  "nbformat_minor": 0,
  "metadata": {
    "colab": {
      "name": "Copy of mnist.ipynb",
      "provenance": [],
      "collapsed_sections": [],
      "authorship_tag": "ABX9TyMI7s9n3dBLtpabqGLlIrty",
      "include_colab_link": true
    },
    "kernelspec": {
      "name": "python3",
      "display_name": "Python 3"
    }
  },
  "cells": [
    {
      "cell_type": "markdown",
      "metadata": {
        "id": "view-in-github",
        "colab_type": "text"
      },
      "source": [
        "<a href=\"https://colab.research.google.com/github/ruwanraj123/datafiles/blob/master/Copy_of_mnist.ipynb\" target=\"_parent\"><img src=\"https://colab.research.google.com/assets/colab-badge.svg\" alt=\"Open In Colab\"/></a>"
      ]
    },
    {
      "cell_type": "code",
      "metadata": {
        "id": "oGHt-d9BkhGg",
        "colab_type": "code",
        "colab": {}
      },
      "source": [
        "import tensorflow as tf\n",
        "from tensorflow import keras\n",
        "import numpy as np\n",
        "import pandas as pd\n",
        "import matplotlib.pyplot as plt\n",
        "# Go to keras library and find the dataset known as fashion_mnist and just \n",
        "# name it mnist\n",
        "mnist = keras.datasets.fashion_mnist\n",
        "type (mnist)\n",
        "\n",
        "# Create two tuples.  One for training and the other one for testing.\n",
        "# Tuple is an array but values will not change.  Regular arrays, values are \n",
        "# changed during computations. This is the data set and the values in these \n",
        "# arrays will not change during the excution of the program.  So tuple is an \n",
        "# array or a matrix with constant values.\n",
        "\n",
        "(x_training, y_training), (x_testing, y_testing) = mnist.load_data ()\n",
        "# (x_training, y_training) --- Include training data in one array or tuple.\n",
        "#  (x_testing, y_testing) --- include testing data in another array\n",
        "\n"
      ],
      "execution_count": 12,
      "outputs": []
    },
    {
      "cell_type": "markdown",
      "metadata": {
        "id": "15HpU2PElYS5",
        "colab_type": "text"
      },
      "source": [
        "shape of tuples.  shape is the size of the array or the tuple.\n"
      ]
    },
    {
      "cell_type": "code",
      "metadata": {
        "id": "qkoPq7N3lgmm",
        "colab_type": "code",
        "colab": {
          "base_uri": "https://localhost:8080/",
          "height": 106
        },
        "outputId": "ee079db5-e5dc-4ec8-babc-61cbea6cea24"
      },
      "source": [
        "print (x_training.shape)\n",
        "print (y_training.shape)\n",
        "print (x_testing.shape)\n",
        "print (y_testing.shape)\n",
        "y_testing\n",
        "# x_training shape is (60,000, 28, 28), y_training shape is 60,000, \n",
        "# x_testing shape is (10,000, 28, 28), y_shape is (10,000)\n"
      ],
      "execution_count": 13,
      "outputs": [
        {
          "output_type": "stream",
          "text": [
            "(60000, 28, 28)\n",
            "(60000,)\n",
            "(10000, 28, 28)\n",
            "(10000,)\n"
          ],
          "name": "stdout"
        },
        {
          "output_type": "execute_result",
          "data": {
            "text/plain": [
              "array([9, 2, 1, ..., 8, 1, 5], dtype=uint8)"
            ]
          },
          "metadata": {
            "tags": []
          },
          "execution_count": 13
        }
      ]
    },
    {
      "cell_type": "code",
      "metadata": {
        "id": "oE3bStWcIxmi",
        "colab_type": "code",
        "colab": {
          "base_uri": "https://localhost:8080/",
          "height": 283
        },
        "outputId": "c53428a0-1f49-4d55-a808-d53ad6ae58db"
      },
      "source": [
        "plt.figure\n",
        "plt.imshow(x_training[5])\n"
      ],
      "execution_count": 16,
      "outputs": [
        {
          "output_type": "execute_result",
          "data": {
            "text/plain": [
              "<matplotlib.image.AxesImage at 0x7f5f00c7b7b8>"
            ]
          },
          "metadata": {
            "tags": []
          },
          "execution_count": 16
        },
        {
          "output_type": "display_data",
          "data": {
            "image/png": "[encoded data removed]",
            "text/plain": [
              "<Figure size 432x288 with 1 Axes>"
            ]
          },
          "metadata": {
            "tags": [],
            "needs_background": "light"
          }
        }
      ]
    }
  ]
}